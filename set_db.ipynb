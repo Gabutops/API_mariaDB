{
 "cells": [
  {
   "cell_type": "code",
   "execution_count": 2,
   "metadata": {},
   "outputs": [],
   "source": [
    "import requests\n",
    "import json"
   ]
  },
  {
   "cell_type": "code",
   "execution_count": 3,
   "metadata": {},
   "outputs": [],
   "source": [
    "reqUrl = \"http://127.0.0.1:80/\""
   ]
  },
  {
   "cell_type": "code",
   "execution_count": 4,
   "metadata": {},
   "outputs": [],
   "source": [
    "headersList = {\n",
    " \"Accept\": \"*/*\",\n",
    " \"User-Agent\": \"Thunder Client (https://www.thunderclient.com)\",\n",
    " \"Content-Type\": \"application/json\" \n",
    "}\n",
    "\n"
   ]
  },
  {
   "cell_type": "code",
   "execution_count": 7,
   "metadata": {},
   "outputs": [
    {
     "name": "stdout",
     "output_type": "stream",
     "text": [
      "finalizado!\n"
     ]
    }
   ],
   "source": [
    "for i in range(200):\n",
    "    payload = json.dumps({\n",
    "    \"RNA_Seq\": f\"{i}_RNA_seq.bam\",\n",
    "    \"Laudo\": f\"{i}_Laudo.doc\",\n",
    "    \"Lamina\": f\"{i}_Lamina.tif\"\n",
    "    })\n",
    "\n",
    "    response = requests.request(\"POST\", reqUrl, data=payload,  headers=headersList)\n",
    "print(\"finalizado!\")\n",
    "\n"
   ]
  }
 ],
 "metadata": {
  "kernelspec": {
   "display_name": "Python 3.10.7 ('venv': venv)",
   "language": "python",
   "name": "python3"
  },
  "language_info": {
   "codemirror_mode": {
    "name": "ipython",
    "version": 3
   },
   "file_extension": ".py",
   "mimetype": "text/x-python",
   "name": "python",
   "nbconvert_exporter": "python",
   "pygments_lexer": "ipython3",
   "version": "3.10.7 (tags/v3.10.7:6cc6b13, Sep  5 2022, 14:08:36) [MSC v.1933 64 bit (AMD64)]"
  },
  "orig_nbformat": 4,
  "vscode": {
   "interpreter": {
    "hash": "3fd75da5f914d51d3953bb81dea1c80bb785a1c68f1d45aea2ca8701fa528fae"
   }
  }
 },
 "nbformat": 4,
 "nbformat_minor": 2
}
